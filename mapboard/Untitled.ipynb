{
 "cells": [
  {
   "cell_type": "code",
   "execution_count": 5,
   "id": "b1a849e4-95cd-4337-bbfa-17707e6c3555",
   "metadata": {},
   "outputs": [
    {
     "name": "stdout",
     "output_type": "stream",
     "text": [
      "GeoJSON has been successfully converted and saved to /home/teodorrk/projects/sql_chatbot/frontend/public/converted_map.geojson\n"
     ]
    }
   ],
   "source": [
    "from django.contrib.gis.geos import LineString, Polygon, MultiPolygon, GEOSGeometry, LinearRing\n",
    "import json\n",
    "\n",
    "# Load the GeoJSON file\n",
    "geojson_file_path = '/home/teodorrk/projects/sql_chatbot/frontend/public/modified_map.geojson'\n",
    "with open(geojson_file_path, 'r') as f:\n",
    "    geojson_data = json.load(f)\n",
    "\n",
    "new_features = []\n",
    "\n",
    "for feature in geojson_data['features']:\n",
    "    geometry = GEOSGeometry(json.dumps(feature['geometry']))\n",
    "\n",
    "    # If the geometry is a LineString, try to convert it to Polygon\n",
    "    if isinstance(geometry, LineString):\n",
    "        # Ensure the LineString is closed\n",
    "        if geometry[0] != geometry[-1]:\n",
    "            closed_coords = list(geometry.coords) + [geometry.coords[0]]\n",
    "            geometry = LineString(closed_coords)\n",
    "\n",
    "        Linear_ring = LinearRing(geometry.coords)\n",
    "        \n",
    "        # Convert to Polygon\n",
    "        polygon = Polygon(Linear_ring)\n",
    "        feature['geometry'] = json.loads(polygon.geojson)\n",
    "        feature['geometry']['type'] = 'Polygon'\n",
    "    \n",
    "    # Append updated feature\n",
    "    new_features.append(feature)\n",
    "\n",
    "# Update the GeoJSON data with the new features\n",
    "geojson_data['features'] = new_features\n",
    "\n",
    "# Save the modified GeoJSON back to a file\n",
    "output_geojson_file_path = '/home/teodorrk/projects/sql_chatbot/frontend/public/converted_map.geojson'\n",
    "with open(output_geojson_file_path, 'w') as f:\n",
    "    json.dump(geojson_data, f, indent=2)\n",
    "\n",
    "print(f\"GeoJSON has been successfully converted and saved to {output_geojson_file_path}\")"
   ]
  },
  {
   "cell_type": "code",
   "execution_count": 3,
   "id": "9c21dd9e-b25f-4270-b109-782bae0e6d9f",
   "metadata": {},
   "outputs": [
    {
     "name": "stdout",
     "output_type": "stream",
     "text": [
      "GeoJSON with non-overlapping regions has been saved to /home/teodorrk/projects/sql_chatbot/frontend/public/aligned_non_overlapping_map.geojson\n"
     ]
    }
   ],
   "source": [
    "import json\n",
    "from shapely.geometry import shape, Polygon\n",
    "from shapely.ops import unary_union\n",
    "\n",
    "# Load the GeoJSON file\n",
    "geojson_file_path = '/home/teodorrk/projects/sql_chatbot/frontend/public/converted_map.geojson'\n",
    "with open(geojson_file_path, 'r') as f:\n",
    "    geojson_data = json.load(f)\n",
    "\n",
    "# Step 1: Identify the outer border polygon (assuming it's the first feature)\n",
    "border_polygon = shape(geojson_data['features'][0]['geometry'])\n",
    "\n",
    "# Step 2: Initialize the remaining area to be the entire outer border\n",
    "remaining_area = border_polygon\n",
    "\n",
    "# New features list starting with the outer border\n",
    "new_features = [geojson_data['features'][0]]  # Keep the border polygon unchanged\n",
    "\n",
    "for feature in geojson_data['features'][1:]:\n",
    "    # Get the shape of the current region\n",
    "    region_polygon = shape(feature['geometry'])\n",
    "\n",
    "    # Step 3: Check if the geometry is valid, if not fix it\n",
    "    if not region_polygon.is_valid:\n",
    "        region_polygon = region_polygon.buffer(0)  # Fix invalid geometry by cleaning\n",
    "\n",
    "    # Check if the remaining area is valid\n",
    "    if not remaining_area.is_valid:\n",
    "        remaining_area = remaining_area.buffer(0)\n",
    "\n",
    "    # Step 4: Clip the region with the remaining area (to avoid overlap)\n",
    "    try:\n",
    "        clipped_polygon = region_polygon.intersection(remaining_area)\n",
    "    except Exception as e:\n",
    "        print(f\"Failed to clip region due to error: {e}\")\n",
    "        continue\n",
    "\n",
    "    # Update the feature's geometry with the clipped polygon\n",
    "    feature['geometry'] = clipped_polygon.__geo_interface__\n",
    "\n",
    "    # Subtract this region from the remaining area\n",
    "    remaining_area = remaining_area.difference(clipped_polygon)\n",
    "\n",
    "    # Append the updated feature\n",
    "    new_features.append(feature)\n",
    "\n",
    "# Step 4: Save the modified GeoJSON back to a file\n",
    "geojson_data['features'] = new_features\n",
    "output_geojson_file_path = '/home/teodorrk/projects/sql_chatbot/frontend/public/aligned_non_overlapping_map.geojson'\n",
    "with open(output_geojson_file_path, 'w') as f:\n",
    "    json.dump(geojson_data, f, indent=2)\n",
    "\n",
    "print(f\"GeoJSON with non-overlapping regions has been saved to {output_geojson_file_path}\")"
   ]
  }
 ],
 "metadata": {
  "kernelspec": {
   "display_name": "chatbot_project",
   "language": "python",
   "name": "myvenv"
  },
  "language_info": {
   "codemirror_mode": {
    "name": "ipython",
    "version": 3
   },
   "file_extension": ".py",
   "mimetype": "text/x-python",
   "name": "python",
   "nbconvert_exporter": "python",
   "pygments_lexer": "ipython3",
   "version": "3.11.9"
  }
 },
 "nbformat": 4,
 "nbformat_minor": 5
}
